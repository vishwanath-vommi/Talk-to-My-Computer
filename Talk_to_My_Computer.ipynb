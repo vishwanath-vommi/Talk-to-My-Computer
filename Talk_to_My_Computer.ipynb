{
  "nbformat": 4,
  "nbformat_minor": 0,
  "metadata": {
    "colab": {
      "provenance": []
    },
    "kernelspec": {
      "name": "python3",
      "display_name": "Python 3"
    },
    "language_info": {
      "name": "python"
    }
  },
  "cells": [
    {
      "cell_type": "code",
      "execution_count": 1,
      "metadata": {
        "colab": {
          "base_uri": "https://localhost:8080/"
        },
        "id": "JKAMAOx2Toa7",
        "outputId": "4866ca4c-05a3-4702-884d-543abd061f50"
      },
      "outputs": [
        {
          "output_type": "stream",
          "name": "stdout",
          "text": [
            "Welcome to 'Talk to My Computer'!\n",
            "Type 'bye' at any time to end the conversation.\n",
            "\n",
            "You: How are you!\n",
            "Compy: I'm just a computer program, so I don't have feelings like humans do. But I'm here and ready to help you with anything you need! How can I assist you today?\n",
            "You: What is current GDP of India\n",
            "Compy: As of 2021, the current GDP of India is approximately $2.873 trillion USD.\n",
            "You: bye\n",
            "Compy: Goodbye! Talk to you later.\n"
          ]
        }
      ],
      "source": [
        "import http.client\n",
        "import json\n",
        "\n",
        "# Function to send requests to the API\n",
        "def send_request_to_api(user_message):\n",
        "    conn = http.client.HTTPSConnection(\"chat-gpt26.p.rapidapi.com\")\n",
        "\n",
        "    # Constructing the payload with the user's message\n",
        "    payload = json.dumps({\n",
        "        \"model\": \"gpt-3.5-turbo\",\n",
        "        \"messages\": [{\"role\": \"user\", \"content\": user_message}]\n",
        "    })\n",
        "\n",
        "    headers = {\n",
        "        'x-rapidapi-key': \"d95138bcccmsh5d35a3a49ecb578p17c5b4jsn72168f34851e\",\n",
        "        'x-rapidapi-host': \"chat-gpt26.p.rapidapi.com\",\n",
        "        'Content-Type': \"application/json\"\n",
        "    }\n",
        "\n",
        "    try:\n",
        "        conn.request(\"POST\", \"/\", payload, headers)\n",
        "        res = conn.getresponse()\n",
        "        data = res.read()\n",
        "        response = data.decode(\"utf-8\")\n",
        "        conn.close()\n",
        "\n",
        "        # Parse the API response\n",
        "        response_json = json.loads(response)\n",
        "        # Extract the assistant's message content\n",
        "        assistant_message = response_json[\"choices\"][0][\"message\"][\"content\"]\n",
        "        return assistant_message\n",
        "\n",
        "    except Exception as e:\n",
        "        return f\"Error communicating with the API: {e}\"\n",
        "\n",
        "# Main function to handle the chat flow\n",
        "def talk_to_computer():\n",
        "    print(\"Welcome to 'Talk to My Computer'!\")\n",
        "    print(\"Type 'bye' at any time to end the conversation.\\n\")\n",
        "\n",
        "    while True:\n",
        "        try:\n",
        "            # Get user input\n",
        "            user_input = input(\"You: \").strip()\n",
        "\n",
        "            # Exit condition\n",
        "            if user_input.lower() == \"bye\":\n",
        "                print(\"Compy: Goodbye! Talk to you later.\")\n",
        "                break\n",
        "\n",
        "            # Get response from the API\n",
        "            response = send_request_to_api(user_input)\n",
        "\n",
        "            # Print the assistant's response\n",
        "            print(f\"Compy: {response}\")\n",
        "\n",
        "        except KeyboardInterrupt:\n",
        "            # Handle Ctrl+C to gracefully exit\n",
        "            print(\"\\nCompy: Goodbye! Talk to you later.\")\n",
        "            break\n",
        "\n",
        "# Run the program\n",
        "talk_to_computer()\n"
      ]
    }
  ]
}